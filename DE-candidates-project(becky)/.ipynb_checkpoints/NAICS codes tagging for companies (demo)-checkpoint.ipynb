{
 "cells": [
  {
   "cell_type": "markdown",
   "metadata": {},
   "source": [
    "# NAICS Codes Tagging for Companies\n",
    "\n",
    "Becky Wang\n",
    "\n",
    "beiqi.wang0509@gmail.com\n",
    "\n",
    "### Objectives\n",
    "\n",
    "This project is about extracting textual data from HTML files and using the data for categorizing companies using NAICS ([North American Industry Classification System](https://www.census.gov/cgi-bin/sssd/naics/naicsrch?chart=2017)).\n",
    "\n",
    "Each company will be assigned one or more NAICS codes based on publicly available information about the company and on descriptions of NAICS codes. Descriptions of NAICS subsector codes are provided in the HTML files in the zipped file. Snippets of text about 4 companies are provided as separate text files.\n",
    "\n",
    "### Methodologies\n",
    "\n",
    "In the project, I first scrape all HTML files under ```lookup``` folder. I only focus on three parts of the descriptions on HTLM page. As shown below: I scrape part 1 for NAICS subsector code and name, part 2 for the first paragrah and part 3 for all industry groups under the subsector.\n",
    "\n",
    "After getting all the information needed, I use bag-of-words method to get the similarity matrix of company's description to all NAICS subsector descriptions, trying to find top three NAICS subsector that are most related. The method I use is called ```Term Frequency, Inverse Document Frequency``` abbreviated to ```tf-idf```, which is a numerical statistic that is intended to reflect how important a word is to a document in a collection or corpus.\n",
    "\n",
    "## Scrape data from HTMLs"
   ]
  },
  {
   "cell_type": "code",
   "execution_count": 1,
   "metadata": {
    "collapsed": true
   },
   "outputs": [],
   "source": [
    "# import packages\n",
    "import os\n",
    "from bs4 import BeautifulSoup\n",
    "import pandas as pd\n",
    "import numpy as np\n",
    "import nltk\n",
    "import re\n",
    "from nltk.tokenize import word_tokenize\n",
    "from nltk.corpus import stopwords\n",
    "from nltk.stem.snowball import SnowballStemmer\n",
    "from sklearn.feature_extraction.text import TfidfVectorizer"
   ]
  },
  {
   "cell_type": "markdown",
   "metadata": {},
   "source": [
    "Inline-style: \n",
    "![title](html_parsing_eg.jpg)\n"
   ]
  },
  {
   "cell_type": "code",
   "execution_count": 2,
   "metadata": {
    "collapsed": false
   },
   "outputs": [],
   "source": [
    "# scrape htmls to get useful information in NAICS descriptions\n",
    "\n",
    "subsector_names = []\n",
    "subsector_codes = []\n",
    "descriptions = []\n",
    "child_groups = []\n",
    "\n",
    "for root, dirs, files in os.walk(\"lookup\"):\n",
    "    for file in files:\n",
    "        if file.endswith(\"index.html\"):\n",
    "            # find all htmls under lookup folder\n",
    "            path = os.path.join(root, file)\n",
    "            soup = BeautifulSoup(open(path), \"html.parser\")\n",
    "            \n",
    "            # find html tag for descriptions\n",
    "            content_box = soup.find(\"div\", attrs={\"class\": \"entry-content\"})\n",
    "            \n",
    "            # parse part 1 (see picture above) to get subsector name and code number\n",
    "            title = content_box.find(\"h1\").text.strip()\n",
    "            index1 = title.find(\"–\")\n",
    "            subsector_name = title[index1 + 1 :]\n",
    "            subsector_names.append(subsector_name)\n",
    "            \n",
    "            # parse part 2 (see picture above) to get the paragraph of description\n",
    "            content = content_box.find(\"p\").text.strip()\n",
    "            index2 = content.find(\":\")        \n",
    "            subsector_codes.append(content[index2 - 3: index2])            \n",
    "            descriptions.append(content[index2 + 2:])\n",
    "            \n",
    "            # parse part 2 (see picture above) to get industry groups under the subsector\n",
    "            text = content_box.get_text()\n",
    "            index3 = text.find(\".Sector \")\n",
    "            child_groups.append(text[index3 + 1:])"
   ]
  },
  {
   "cell_type": "code",
   "execution_count": 3,
   "metadata": {
    "collapsed": false
   },
   "outputs": [
    {
     "data": {
      "text/html": [
       "<div>\n",
       "<table border=\"1\" class=\"dataframe\">\n",
       "  <thead>\n",
       "    <tr style=\"text-align: right;\">\n",
       "      <th></th>\n",
       "      <th>description</th>\n",
       "      <th>industry_group</th>\n",
       "      <th>subsector_code</th>\n",
       "      <th>subsector_name</th>\n",
       "    </tr>\n",
       "  </thead>\n",
       "  <tbody>\n",
       "    <tr>\n",
       "      <th>0</th>\n",
       "      <td>Industries in the Crop Production subsector gr...</td>\n",
       "      <td>Sector 11: Agriculture, Forestry, Fishing and ...</td>\n",
       "      <td>111</td>\n",
       "      <td>Crop Production</td>\n",
       "    </tr>\n",
       "    <tr>\n",
       "      <th>1</th>\n",
       "      <td>Industries in the Animal Production and Aquacu...</td>\n",
       "      <td>Sector 11: Agriculture, Forestry, Fishing and ...</td>\n",
       "      <td>112</td>\n",
       "      <td>Animal Production and Aquaculture</td>\n",
       "    </tr>\n",
       "    <tr>\n",
       "      <th>2</th>\n",
       "      <td>Industries in the Forestry and Logging subsect...</td>\n",
       "      <td>Sector 11: Agriculture, Forestry, Fishing and ...</td>\n",
       "      <td>113</td>\n",
       "      <td>Forestry and Logging</td>\n",
       "    </tr>\n",
       "    <tr>\n",
       "      <th>3</th>\n",
       "      <td>Industries in the Fishing, Hunting and Trappin...</td>\n",
       "      <td>Sector 11: Agriculture, Forestry, Fishing and ...</td>\n",
       "      <td>114</td>\n",
       "      <td>Fishing, Hunting and Trapping</td>\n",
       "    </tr>\n",
       "    <tr>\n",
       "      <th>4</th>\n",
       "      <td>Industries in the Support Activities for Agric...</td>\n",
       "      <td>Sector 11: Agriculture, Forestry, Fishing and ...</td>\n",
       "      <td>115</td>\n",
       "      <td>Support Activities for Agriculture and Forestry</td>\n",
       "    </tr>\n",
       "  </tbody>\n",
       "</table>\n",
       "</div>"
      ],
      "text/plain": [
       "                                         description  \\\n",
       "0  Industries in the Crop Production subsector gr...   \n",
       "1  Industries in the Animal Production and Aquacu...   \n",
       "2  Industries in the Forestry and Logging subsect...   \n",
       "3  Industries in the Fishing, Hunting and Trappin...   \n",
       "4  Industries in the Support Activities for Agric...   \n",
       "\n",
       "                                      industry_group subsector_code  \\\n",
       "0  Sector 11: Agriculture, Forestry, Fishing and ...            111   \n",
       "1  Sector 11: Agriculture, Forestry, Fishing and ...            112   \n",
       "2  Sector 11: Agriculture, Forestry, Fishing and ...            113   \n",
       "3  Sector 11: Agriculture, Forestry, Fishing and ...            114   \n",
       "4  Sector 11: Agriculture, Forestry, Fishing and ...            115   \n",
       "\n",
       "                                     subsector_name  \n",
       "0                                   Crop Production  \n",
       "1                 Animal Production and Aquaculture  \n",
       "2                              Forestry and Logging  \n",
       "3                     Fishing, Hunting and Trapping  \n",
       "4   Support Activities for Agriculture and Forestry  "
      ]
     },
     "execution_count": 3,
     "metadata": {},
     "output_type": "execute_result"
    }
   ],
   "source": [
    "# dataframe of all the information\n",
    "table = pd.DataFrame({\"subsector_code\" : subsector_codes ,\"subsector_name\" : subsector_names,\n",
    "                      \"description\" : descriptions, \"industry_group\" : child_groups})\n",
    "table.head()"
   ]
  },
  {
   "cell_type": "code",
   "execution_count": 4,
   "metadata": {
    "collapsed": true
   },
   "outputs": [],
   "source": [
    "# export to csv file\n",
    "table.to_csv('subsector_data.csv', index = False)"
   ]
  },
  {
   "cell_type": "markdown",
   "metadata": {},
   "source": [
    "## Data Cleaning"
   ]
  },
  {
   "cell_type": "code",
   "execution_count": 5,
   "metadata": {
    "collapsed": false
   },
   "outputs": [],
   "source": [
    "# define function to cleaning text\n",
    "def clean_text(text): \n",
    "    \"\"\"This function will clean the text, remove all punctuations and numbers\n",
    "        and only keep stem of each word\n",
    "    Args:\n",
    "        text (str): text to be cleaned\n",
    "    Returns:\n",
    "        str: text after cleaning.\n",
    "    \"\"\"\n",
    "    text = text.lower()\n",
    "    text = text.replace(\"industry\",\"\")\n",
    "    only_words = re.sub('[^a-zA-Z\\s]+', '', text)\n",
    "    words_list = word_tokenize(only_words)\n",
    "    stemmer = SnowballStemmer(\"english\")\n",
    "    cleaned_text = ' '.join(stemmer.stem(word) for word in words_list)\n",
    "\n",
    "    \n",
    "    return cleaned_text"
   ]
  },
  {
   "cell_type": "code",
   "execution_count": 6,
   "metadata": {
    "collapsed": false
   },
   "outputs": [],
   "source": [
    "# clean description and industry group for each subsector\n",
    "cleaned_descriptions = []\n",
    "for description in descriptions:\n",
    "    cleaned_descriptions.append(clean_text(description))\n",
    "\n",
    "cleaned_child_groups = []\n",
    "for child_group in child_groups:\n",
    "    child_group = clean_text(child_group)\n",
    "    child_group = child_group.replace(\" digit\", \"\").replace(\" code\", \"\").replace(\" naic\", \"\")\n",
    "    cleaned_child_groups.append(child_group)"
   ]
  },
  {
   "cell_type": "code",
   "execution_count": 7,
   "metadata": {
    "collapsed": false
   },
   "outputs": [
    {
     "data": {
      "text/plain": [
       "'industri in the crop product subsector grow crop main for food and fiber the subsector compris establish such as farm orchard grove greenhous and nurseri primarili engag in grow crop plant vine or tree and their seed sector agricultur forestri fish and huntingsubsector crop product group oilse and grain farm oilse except soybean farm oilse except soybean farm dri pea and bean farm dri pea and bean farm group oilse and grain farm wheat farm wheat farm corn farm corn farm rice farm rice farm other grain farm oilse and grain combin farm all other grain farm group veget and melon farm veget and melon farm potato farm other veget except potato and melon farm group fruit and tree nut farm orang grove orang grove citrus except orang grove citrus except orang grove noncitrus fruit and tree nut farm appl orchard grape vineyard strawberri farm berri except strawberri farm tree nut farm fruit and tree nut combin farm other noncitrus fruit farm group greenhous nurseri and floricultur product food crop grown under cover mushroom product other food crop grown under cover nurseri and floricultur product nurseri and tree product floricultur product group other crop farm tobacco farm tobacco farm cotton farm cotton farm sugarcan farm sugarcan farm hay farm hay farm all other crop farm sugar beet farm peanut farm all other miscellan crop farmingna subsector'"
      ]
     },
     "execution_count": 7,
     "metadata": {},
     "output_type": "execute_result"
    }
   ],
   "source": [
    "# combine cleaned description and industry group\n",
    "contents = []\n",
    "for i in range(len(cleaned_child_groups)):\n",
    "    contents.append(cleaned_descriptions[i] + \" \" + cleaned_child_groups[i])\n",
    "    \n",
    "contents[0]"
   ]
  },
  {
   "cell_type": "markdown",
   "metadata": {},
   "source": [
    "## Generate Similarity Matrix"
   ]
  },
  {
   "cell_type": "code",
   "execution_count": 10,
   "metadata": {
    "collapsed": true
   },
   "outputs": [],
   "source": [
    "def similarity_matrix(test_text):\n",
    "    \"\"\"This function will clean the test text, then generate the similarity matrix \n",
    "        of company's description to all NAICS subsector descriptions, and print out\n",
    "        top three NAICS subsector that are most related\n",
    "    Args:\n",
    "        text (str): text to be tested\n",
    "    Returns:\n",
    "        df: a sorted list of similarity ratio.\n",
    "    \"\"\"\n",
    "    cleaned_test = clean_text(test_text)\n",
    "    comb = [cleaned_test] + contents\n",
    "    vect = TfidfVectorizer(min_df=0.002, max_df = .1, stop_words='english', norm='l2')\n",
    "    tfidf = vect.fit_transform(comb)\n",
    "    cor = (tfidf * tfidf.T).A\n",
    "    corr_df = pd.DataFrame({\"corrcoef\": cor[0][1:]})\n",
    "    corr_df_sorded = corr_df.sort_values(by = \"corrcoef\", ascending=False)\n",
    "    print(\"1: \",subsector_codes[corr_df_sorded.index[0]], \"--\",subsector_names[corr_df_sorded.index[0]])\n",
    "    print(\"2: \",subsector_codes[corr_df_sorded.index[1]], \"--\",subsector_names[corr_df_sorded.index[1]])\n",
    "    print(\"3: \",subsector_codes[corr_df_sorded.index[2]], \"--\",subsector_names[corr_df_sorded.index[2]])"
   ]
  },
  {
   "cell_type": "code",
   "execution_count": 11,
   "metadata": {
    "collapsed": false
   },
   "outputs": [
    {
     "name": "stdout",
     "output_type": "stream",
     "text": [
      "Company:  Nordstrom\n",
      "1:  448 --  Clothing and Clothing Accessories Stores\n",
      "2:  551 --  Management of Companies and Enterprises\n",
      "3:  814 --  Private Households\n"
     ]
    }
   ],
   "source": [
    "test1 = \"Nordstrom, Inc. is a leading fashion specialty retailer based in the U.S. Founded in 1901 as a shoe store in Seattle, today Nordstrom operates 370 stores including, including 122 full-line stores in the United States, Canada and Puerto Rico; 236 Nordstrom Racks; two Jeffrey boutiques; and two clearance stores. Nordstrom also serves customers online through Nordstrom.com, Nordstromrack.com and private sale site HauteLook. The company also owns Trunk Club, a personalized clothing service that takes care of customers online at TrunkClub.com and its seven showrooms. Nordstrom, Inc.'s common stock is publicly traded on the NYSE under the symbol JWN.\"\n",
    "print(\"Company:  Nordstrom\")\n",
    "similarity_matrix(test1)"
   ]
  },
  {
   "cell_type": "code",
   "execution_count": 12,
   "metadata": {
    "collapsed": false
   },
   "outputs": [
    {
     "name": "stdout",
     "output_type": "stream",
     "text": [
      "Company:  Nissan Motor\n",
      "1:  336 --  Transportation Equipment Manufacturing\n",
      "2:  551 --  Management of Companies and Enterprises\n",
      "3:  335 --  Electrical Equipment, Appliance, and Component Manufacturing\n"
     ]
    }
   ],
   "source": [
    "test2 = \"Nissan Motor gets where it's going in North America through Nissan North America. With plants in the US and Mexico, Nissan North America designs, engineers, and produces such vehicles as the Xterra SUV, the Altima sedan, and the Frontier pickup. It also provides marketing, financing, distribution, and services in Canada, Guam, Mexico, Puerto Rico, and the US. It oversees sales of Nissan's luxury Infiniti brand of cars in North America. Through Nissan Forklift, the company distributes and sells Nissan's electric and gasoline-powered forklifts. Nissan North America was formed in 1990 to coordinate the company's US, Mexican, and Canadian operations. North America accounts for almost 40% of Nissan Motor's sales.\"\n",
    "print(\"Company:  Nissan Motor\")\n",
    "similarity_matrix(test2)"
   ]
  },
  {
   "cell_type": "code",
   "execution_count": 13,
   "metadata": {
    "collapsed": false
   },
   "outputs": [
    {
     "name": "stdout",
     "output_type": "stream",
     "text": [
      "Company:  Sonos Wireless HiFi System\n",
      "1:  512 --  Motion Picture and Sound Recording Industries\n",
      "2:  451 --  Sporting Goods, Hobby, Musical Instrument, and Book Stores\n",
      "3:  517 --  Telecommunications\n"
     ]
    }
   ],
   "source": [
    "test3 = \"The Sonos Wireless HiFi System delivers all the music on earth, in every room, with warm, full-bodied sound thatís crystal clear at any volume. Sonos can fill your home with music by combining HiFi sound and rock-solid wireless in a smart system that is easy to set-up, control and expand.\"\n",
    "print(\"Company:  Sonos Wireless HiFi System\")\n",
    "similarity_matrix(test3)"
   ]
  },
  {
   "cell_type": "code",
   "execution_count": 14,
   "metadata": {
    "collapsed": false
   },
   "outputs": [
    {
     "name": "stdout",
     "output_type": "stream",
     "text": [
      "Company:  Bank of America\n",
      "1:  551 --  Management of Companies and Enterprises\n",
      "2:  521 --  Monetary Authorities-Central Bank\n",
      "3:  523 --  Securities, Commodity Contracts, and Other Financial Investments and Related Activities\n"
     ]
    }
   ],
   "source": [
    "test4 = \"Bank of America is one of the world's largest financial institutions, serving individuals, small- and middle-market businesses and large corporations with a full range of banking, investing, asset management and other financial and risk management products and services. The company serves approximately 56 million U.S. consumer and small business relationships. It is among the world's leading wealth management companies and is a global leader in corporate and investment banking and trading.\"\n",
    "print(\"Company:  Bank of America\")\n",
    "similarity_matrix(test4)"
   ]
  },
  {
   "cell_type": "code",
   "execution_count": null,
   "metadata": {
    "collapsed": true
   },
   "outputs": [],
   "source": []
  }
 ],
 "metadata": {
  "kernelspec": {
   "display_name": "Python 3",
   "language": "python",
   "name": "python3"
  },
  "language_info": {
   "codemirror_mode": {
    "name": "ipython",
    "version": 3
   },
   "file_extension": ".py",
   "mimetype": "text/x-python",
   "name": "python",
   "nbconvert_exporter": "python",
   "pygments_lexer": "ipython3",
   "version": "3.6.0"
  }
 },
 "nbformat": 4,
 "nbformat_minor": 2
}
